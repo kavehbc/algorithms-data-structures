{
 "cells": [
  {
   "cell_type": "markdown",
   "id": "7a418d27-1c02-4268-bbd0-2e5740ef2f23",
   "metadata": {},
   "source": [
    "# MNIST Fashion / Extract Images"
   ]
  },
  {
   "cell_type": "code",
   "execution_count": 1,
   "id": "6771d6f9-58a1-47db-ad56-5f0fc83325fd",
   "metadata": {},
   "outputs": [],
   "source": [
    "import keras\n",
    "from keras.datasets import fashion_mnist\n",
    "from PIL import Image, ImageOps\n",
    "import numpy as np\n",
    "import os\n",
    "from tqdm.notebook import tqdm"
   ]
  },
  {
   "cell_type": "code",
   "execution_count": 20,
   "id": "0951403c-3fad-4d49-b4f0-aadcfd940df4",
   "metadata": {},
   "outputs": [
    {
     "name": "stdout",
     "output_type": "stream",
     "text": [
      "CPU times: total: 281 ms\n",
      "Wall time: 325 ms\n"
     ]
    },
    {
     "data": {
      "text/plain": [
       "((60000, 28, 28), (10000, 28, 28), (60000,), (10000,))"
      ]
     },
     "execution_count": 20,
     "metadata": {},
     "output_type": "execute_result"
    }
   ],
   "source": [
    "%%time\n",
    "(x_train, y_train), (x_test, y_test) = fashion_mnist.load_data()\n",
    "x_train.shape, x_test.shape, y_train.shape, y_test.shape"
   ]
  },
  {
   "cell_type": "code",
   "execution_count": 15,
   "id": "62913bf5-c2af-4e3f-aa5d-eb10ef82090d",
   "metadata": {},
   "outputs": [
    {
     "data": {
      "image/jpeg": "[encoded data removed]",
      "image/png": "[encoded data removed]",
      "text/plain": [
       "<PIL.Image.Image image mode=L size=28x28>"
      ]
     },
     "execution_count": 15,
     "metadata": {},
     "output_type": "execute_result"
    }
   ],
   "source": [
    "sample_img_arr = x_train[0]\n",
    "sample_img = Image.fromarray(sample_img_arr.astype(\"uint8\"))\n",
    "sample_img"
   ]
  },
  {
   "cell_type": "code",
   "execution_count": 13,
   "id": "82457c74-2f28-4ff3-92c8-49e4e004acf1",
   "metadata": {},
   "outputs": [
    {
     "data": {
      "image/jpeg": "[encoded data removed]",
      "image/png": "[encoded data removed]",
      "text/plain": [
       "<PIL.Image.Image image mode=L size=28x28>"
      ]
     },
     "execution_count": 13,
     "metadata": {},
     "output_type": "execute_result"
    }
   ],
   "source": [
    "sample_img = ImageOps.invert(sample_img)\n",
    "sample_img"
   ]
  },
  {
   "cell_type": "code",
   "execution_count": 17,
   "id": "8004e58b-d232-4443-bba3-c748bd0bf31b",
   "metadata": {},
   "outputs": [
    {
     "data": {
      "application/vnd.jupyter.widget-view+json": {
       "model_id": "f7aab938e495482fb336bb67e69790e9",
       "version_major": 2,
       "version_minor": 0
      },
      "text/plain": [
       "  0%|          | 0/60000 [00:00<?, ?it/s]"
      ]
     },
     "metadata": {},
     "output_type": "display_data"
    }
   ],
   "source": [
    "for index, item in enumerate(tqdm(x_train)):\n",
    "    dir_name = f\"fashion_mnist/train/{y_train[index]}/\"\n",
    "    file_name = dir_name + f\"{index:05d}.jpg\"\n",
    "\n",
    "    if os.path.exists(dir_name) == False:\n",
    "        os.mkdir(dir_name)\n",
    "        \n",
    "    img = Image.fromarray(item.astype(\"uint8\"))\n",
    "    img.save(file_name)"
   ]
  },
  {
   "cell_type": "code",
   "execution_count": 18,
   "id": "89db96ea-1dc9-4e20-b6fd-7d44ac51fa99",
   "metadata": {},
   "outputs": [
    {
     "data": {
      "application/vnd.jupyter.widget-view+json": {
       "model_id": "ebb356172d5f43cfa1c1e64da58e0411",
       "version_major": 2,
       "version_minor": 0
      },
      "text/plain": [
       "  0%|          | 0/10000 [00:00<?, ?it/s]"
      ]
     },
     "metadata": {},
     "output_type": "display_data"
    }
   ],
   "source": [
    "for index, item in enumerate(tqdm(x_test)):\n",
    "    dir_name = f\"fashion_mnist/test/{y_test[index]}/\"\n",
    "    file_name = dir_name + f\"{index:05d}.jpg\"\n",
    "\n",
    "    if os.path.exists(dir_name) == False:\n",
    "        os.mkdir(dir_name)\n",
    "        \n",
    "    img = Image.fromarray(item.astype(\"uint8\"))\n",
    "    img.save(file_name)"
   ]
  }
 ],
 "metadata": {
  "kernelspec": {
   "display_name": "Python 3 (ipykernel)",
   "language": "python",
   "name": "python3"
  },
  "language_info": {
   "codemirror_mode": {
    "name": "ipython",
    "version": 3
   },
   "file_extension": ".py",
   "mimetype": "text/x-python",
   "name": "python",
   "nbconvert_exporter": "python",
   "pygments_lexer": "ipython3",
   "version": "3.10.13"
  }
 },
 "nbformat": 4,
 "nbformat_minor": 5
}
