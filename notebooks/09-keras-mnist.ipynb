{
 "cells": [
  {
   "cell_type": "markdown",
   "id": "555071b3-ea38-4c91-9b81-1a4db61cea0a",
   "metadata": {},
   "source": [
    "# MNIST / Keras"
   ]
  },
  {
   "cell_type": "code",
   "execution_count": 7,
   "id": "48a83e4f-548d-45c0-87d6-fbd6ea0213e7",
   "metadata": {},
   "outputs": [],
   "source": [
    "import keras\n",
    "from PIL import Image\n",
    "import numpy as np"
   ]
  },
  {
   "cell_type": "code",
   "execution_count": 8,
   "id": "cf75bd7d-0853-4b9d-bb8b-d9734a37aa32",
   "metadata": {},
   "outputs": [
    {
     "name": "stdout",
     "output_type": "stream",
     "text": [
      "Model: \"MNIST_Model\"\n",
      "_________________________________________________________________\n",
      " Layer (type)                Output Shape              Param #   \n",
      "=================================================================\n",
      " input_1 (InputLayer)        [(None, 28, 28, 1)]       0         \n",
      "                                                                 \n",
      " conv0 (Conv2D)              (None, 26, 26, 32)        320       \n",
      "                                                                 \n",
      " bn0 (BatchNormalization)    (None, 26, 26, 32)        128       \n",
      "                                                                 \n",
      " activation_1 (Activation)   (None, 26, 26, 32)        0         \n",
      "                                                                 \n",
      " conv1 (Conv2D)              (None, 24, 24, 32)        9248      \n",
      "                                                                 \n",
      " bn1 (BatchNormalization)    (None, 24, 24, 32)        128       \n",
      "                                                                 \n",
      " activation_2 (Activation)   (None, 24, 24, 32)        0         \n",
      "                                                                 \n",
      " MP1 (MaxPooling2D)          (None, 12, 12, 32)        0         \n",
      "                                                                 \n",
      " conv2 (Conv2D)              (None, 10, 10, 64)        18496     \n",
      "                                                                 \n",
      " bn2 (BatchNormalization)    (None, 10, 10, 64)        256       \n",
      "                                                                 \n",
      " activation_3 (Activation)   (None, 10, 10, 64)        0         \n",
      "                                                                 \n",
      " conv3 (Conv2D)              (None, 8, 8, 64)          36928     \n",
      "                                                                 \n",
      " bn3 (BatchNormalization)    (None, 8, 8, 64)          256       \n",
      "                                                                 \n",
      " activation_4 (Activation)   (None, 8, 8, 64)          0         \n",
      "                                                                 \n",
      " MP2 (MaxPooling2D)          (None, 4, 4, 64)          0         \n",
      "                                                                 \n",
      " dropout_1 (Dropout)         (None, 4, 4, 64)          0         \n",
      "                                                                 \n",
      " flatten_1 (Flatten)         (None, 1024)              0         \n",
      "                                                                 \n",
      " fc1 (Dense)                 (None, 256)               262400    \n",
      "                                                                 \n",
      " dropout_2 (Dropout)         (None, 256)               0         \n",
      "                                                                 \n",
      " fco (Dense)                 (None, 10)                2570      \n",
      "                                                                 \n",
      "=================================================================\n",
      "Total params: 330,730\n",
      "Trainable params: 330,346\n",
      "Non-trainable params: 384\n",
      "_________________________________________________________________\n"
     ]
    }
   ],
   "source": [
    "model = keras.models.load_model(\"mnist/MNIST_keras_CNN.h5\")\n",
    "model.summary()"
   ]
  },
  {
   "cell_type": "code",
   "execution_count": 32,
   "id": "bc5be730-8e93-4b2c-a73f-ebb3ca1a7a33",
   "metadata": {},
   "outputs": [
    {
     "data": {
      "image/jpeg": "[encoded data removed]",
      "image/png": "[encoded data removed]",
      "text/plain": [
       "<PIL.Image.Image image mode=RGB size=28x28>"
      ]
     },
     "execution_count": 32,
     "metadata": {},
     "output_type": "execute_result"
    }
   ],
   "source": [
    "img = Image.open(\"mnist/test.jpg\").resize((28, 28))\n",
    "img"
   ]
  },
  {
   "cell_type": "code",
   "execution_count": 33,
   "id": "6845132c-7ff4-45cb-8229-0552adf48ef3",
   "metadata": {},
   "outputs": [
    {
     "data": {
      "text/plain": [
       "(28, 28)"
      ]
     },
     "execution_count": 33,
     "metadata": {},
     "output_type": "execute_result"
    }
   ],
   "source": [
    "arr = np.array(img)\n",
    "arr = np.average(arr, axis=-1)\n",
    "arr.shape"
   ]
  },
  {
   "cell_type": "code",
   "execution_count": 34,
   "id": "83ca2094-f9e7-471d-a595-ceb79621f190",
   "metadata": {},
   "outputs": [
    {
     "data": {
      "text/plain": [
       "(1, 28, 28, 1)"
      ]
     },
     "execution_count": 34,
     "metadata": {},
     "output_type": "execute_result"
    }
   ],
   "source": [
    "arr = arr.reshape(1, 28, 28, 1)\n",
    "arr.shape"
   ]
  },
  {
   "cell_type": "code",
   "execution_count": 35,
   "id": "e85b905a-f011-4aa1-8fe5-33f86ef40d0f",
   "metadata": {},
   "outputs": [
    {
     "name": "stdout",
     "output_type": "stream",
     "text": [
      "1/1 [==============================] - 0s 44ms/step\n"
     ]
    },
    {
     "data": {
      "text/plain": [
       "array([[0., 0., 0., 1., 0., 0., 0., 0., 0., 0.]], dtype=float32)"
      ]
     },
     "execution_count": 35,
     "metadata": {},
     "output_type": "execute_result"
    }
   ],
   "source": [
    "prediction = model.predict(arr)\n",
    "prediction"
   ]
  },
  {
   "cell_type": "code",
   "execution_count": 36,
   "id": "75b83fdf-6412-47f9-ba97-8d96dd2e8eb7",
   "metadata": {},
   "outputs": [
    {
     "data": {
      "text/plain": [
       "3"
      ]
     },
     "execution_count": 36,
     "metadata": {},
     "output_type": "execute_result"
    }
   ],
   "source": [
    "np.argmax(prediction)"
   ]
  },
  {
   "cell_type": "code",
   "execution_count": 37,
   "id": "ca92a7c7-ae91-4519-8259-eb3e85426419",
   "metadata": {},
   "outputs": [
    {
     "name": "stdout",
     "output_type": "stream",
     "text": [
      "[name: \"/device:CPU:0\"\n",
      "device_type: \"CPU\"\n",
      "memory_limit: 268435456\n",
      "locality {\n",
      "}\n",
      "incarnation: 17529058163214925342\n",
      "xla_global_id: -1\n",
      "]\n"
     ]
    }
   ],
   "source": [
    "from tensorflow.python.client import device_lib\n",
    "print(device_lib.list_local_devices()) # list of DeviceAttributes"
   ]
  }
 ],
 "metadata": {
  "kernelspec": {
   "display_name": "Python 3 (ipykernel)",
   "language": "python",
   "name": "python3"
  },
  "language_info": {
   "codemirror_mode": {
    "name": "ipython",
    "version": 3
   },
   "file_extension": ".py",
   "mimetype": "text/x-python",
   "name": "python",
   "nbconvert_exporter": "python",
   "pygments_lexer": "ipython3",
   "version": "3.10.13"
  }
 },
 "nbformat": 4,
 "nbformat_minor": 5
}
